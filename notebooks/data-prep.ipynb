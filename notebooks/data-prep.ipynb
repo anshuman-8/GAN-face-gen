{
 "cells": [
  {
   "cell_type": "code",
   "execution_count": 1,
   "metadata": {},
   "outputs": [],
   "source": [
    "import os\n",
    "from glob import glob\n",
    "import numpy as np\n",
    "import pandas as pd\n",
    "from torch.utils.data import DataLoader, Dataset, random_split\n",
    "from PIL import Image\n",
    "import matplotlib.pyplot as plt\n",
    "%matplotlib inline"
   ]
  },
  {
   "cell_type": "code",
   "execution_count": 2,
   "metadata": {},
   "outputs": [],
   "source": [
    "BASE_DIR = \"/home/jovyan/work/workspace/GAN-face-gen/\"\n",
    "IMAGE_DIR = \"/home/jovyan/work/workspace/GAN-face-gen/data/face-images/\"\n",
    "PARTITION_FILE = \"/home/jovyan/work/workspace/GAN-face-gen/data/list_eval_partition.csv\""
   ]
  },
  {
   "cell_type": "code",
   "execution_count": 3,
   "metadata": {},
   "outputs": [
    {
     "name": "stdout",
     "output_type": "stream",
     "text": [
      "184126\n",
      "183124\n"
     ]
    }
   ],
   "source": [
    "Image_dir = \"notebook/data/face-imagegen\"\n",
    "Glob_Image_dir1 = glob(\"/home/jovyan/work/workspace/GAN-face-gen/data/face-images/*\")\n",
    "Glob_Image_dir2 = glob(\"/home/jovyan/work/workspace/GAN-face-gen/data/img_align_celeba/img_align_celeba/*\")\n",
    "print(len(Glob_Image_dir1))\n",
    "print(len(Glob_Image_dir2))"
   ]
  },
  {
   "cell_type": "code",
   "execution_count": 4,
   "metadata": {},
   "outputs": [
    {
     "name": "stdout",
     "output_type": "stream",
     "text": [
      "<class 'pandas.core.frame.DataFrame'>\n",
      "RangeIndex: 202599 entries, 0 to 202598\n",
      "Data columns (total 2 columns):\n",
      " #   Column     Non-Null Count   Dtype \n",
      "---  ------     --------------   ----- \n",
      " 0   image_id   202599 non-null  object\n",
      " 1   partition  202599 non-null  int64 \n",
      "dtypes: int64(1), object(1)\n",
      "memory usage: 3.1+ MB\n"
     ]
    }
   ],
   "source": [
    "partition_file = pd.read_csv(PARTITION_FILE)\n",
    "partition_file.info()"
   ]
  },
  {
   "cell_type": "code",
   "execution_count": 5,
   "metadata": {},
   "outputs": [
    {
     "data": {
      "text/plain": [
       "<BarContainer object of 3 artists>"
      ]
     },
     "execution_count": 5,
     "metadata": {},
     "output_type": "execute_result"
    },
    {
     "data": {
      "image/png": "[encoded data removed]",
      "text/plain": [
       "<Figure size 640x480 with 1 Axes>"
      ]
     },
     "metadata": {},
     "output_type": "display_data"
    }
   ],
   "source": [
    "plt.bar(['train', 'val', 'test'], partition_file['partition'].value_counts().values)"
   ]
  },
  {
   "cell_type": "code",
   "execution_count": 6,
   "metadata": {},
   "outputs": [],
   "source": [
    "image_files = os.listdir(IMAGE_DIR)\n",
    "image_files = [f for f in image_files if f.endswith(('.jpg', '.png'))]\n",
    "\n",
    "len(image_files)\n",
    "asdf = pd.DataFrame(image_files)"
   ]
  },
  {
   "cell_type": "code",
   "execution_count": 7,
   "metadata": {},
   "outputs": [
    {
     "name": "stdout",
     "output_type": "stream",
     "text": [
      "<class 'pandas.core.frame.DataFrame'>\n",
      "Int64Index: 162770 entries, 0 to 162769\n",
      "Data columns (total 2 columns):\n",
      " #   Column     Non-Null Count   Dtype \n",
      "---  ------     --------------   ----- \n",
      " 0   image_id   162770 non-null  object\n",
      " 1   partition  162770 non-null  int64 \n",
      "dtypes: int64(1), object(1)\n",
      "memory usage: 3.7+ MB\n",
      "============================================\n",
      "\n",
      "<class 'pandas.core.frame.DataFrame'>\n",
      "Int64Index: 19867 entries, 162770 to 182636\n",
      "Data columns (total 2 columns):\n",
      " #   Column     Non-Null Count  Dtype \n",
      "---  ------     --------------  ----- \n",
      " 0   image_id   19867 non-null  object\n",
      " 1   partition  19867 non-null  int64 \n",
      "dtypes: int64(1), object(1)\n",
      "memory usage: 465.6+ KB\n",
      "============================================\n",
      "\n",
      "<class 'pandas.core.frame.DataFrame'>\n",
      "Int64Index: 19962 entries, 182637 to 202598\n",
      "Data columns (total 2 columns):\n",
      " #   Column     Non-Null Count  Dtype \n",
      "---  ------     --------------  ----- \n",
      " 0   image_id   19962 non-null  object\n",
      " 1   partition  19962 non-null  int64 \n",
      "dtypes: int64(1), object(1)\n",
      "memory usage: 467.9+ KB\n"
     ]
    }
   ],
   "source": [
    "train_df = partition_file[partition_file['partition'] == 0]\n",
    "val_df = partition_file[partition_file['partition'] == 1]\n",
    "test_df = partition_file[partition_file['partition'] == 2]\n",
    "\n",
    "train_df.info()\n",
    "print(\"============================================\\n\")\n",
    "val_df.info()\n",
    "print(\"============================================\\n\")\n",
    "test_df.info()"
   ]
  },
  {
   "cell_type": "code",
   "execution_count": 8,
   "metadata": {},
   "outputs": [],
   "source": [
    "class Dataset(Dataset):\n",
    "    def __init__(self, img_dir, data, transform=None):\n",
    "        self.img_dir = img_dir\n",
    "        self.data = data\n",
    "        self.transform = transform\n",
    "\n",
    "    def __len__(self):\n",
    "        return len(self.data)\n",
    "    \n",
    "    def __getitem__(self, idx):\n",
    "        img_name = os.path.join(self.img_dir, self.data.iloc[idx, 0])\n",
    "        image = Image.open(img_name)\n",
    "        if self.transform:\n",
    "            image = self.transform(image)\n",
    "        return image"
   ]
  },
  {
   "cell_type": "code",
   "execution_count": null,
   "metadata": {},
   "outputs": [],
   "source": []
  }
 ],
 "metadata": {
  "kernelspec": {
   "display_name": "base",
   "language": "python",
   "name": "python3"
  },
  "language_info": {
   "codemirror_mode": {
    "name": "ipython",
    "version": 3
   },
   "file_extension": ".py",
   "mimetype": "text/x-python",
   "name": "python",
   "nbconvert_exporter": "python",
   "pygments_lexer": "ipython3",
   "version": "3.10.12"
  },
  "orig_nbformat": 4
 },
 "nbformat": 4,
 "nbformat_minor": 2
}
